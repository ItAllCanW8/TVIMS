{
 "cells": [
  {
   "cell_type": "code",
   "execution_count": 7,
   "metadata": {},
   "outputs": [],
   "source": [
    "import random\n",
    "import math\n",
    "import matplotlib.pylab as plt\n",
    "from scipy import stats"
   ]
  },
  {
   "cell_type": "markdown",
   "metadata": {},
   "source": [
    "# Task 1"
   ]
  },
  {
   "cell_type": "code",
   "execution_count": 5,
   "metadata": {},
   "outputs": [
    {
     "data": {
      "image/png": "[encoded data removed]",
      "text/plain": [
       "<Figure size 432x288 with 1 Axes>"
      ]
     },
     "metadata": {
      "needs_background": "light"
     },
     "output_type": "display_data"
    },
    {
     "name": "stdout",
     "output_type": "stream",
     "text": [
      "by the type of histogram, we hypothesize h0 that this is a uniform distribution\n",
      "y: [-1.0, -1.0, -1.0, -1.0, -1.0, -1.0, -1.0, -1.0, -1.0, -1.0, -1.0, -1.0, -1.0, -1.0, -1.0, -1.0, -1.0, -1.0, -1.0, -1.0, -1.0, -1.0, -1.0, -1.0, -1.0, -1.0, -1.0, -1.0, -1.0, -1.0, -1.0, -1.0, -1.0, -1.0, -1.0, -1.0, -1.0, -1.0, 0.0, 0.0, 0.0, 0.0, 0.0, 0.0, 0.0, 0.0, 0.0, 0.0, 0.0, 0.0, 0.0, 0.0, 0.0, 0.0, 0.0, 0.0, 0.0, 0.0, 0.0, 0.0, 0.0, 0.0, 0.0, 0.0, 0.0, 0.0, 0.0, 0.0, 0.0, 0.0, 0.0, 0.0, 0.0, 0.0, 0.5, 0.5, 0.5, 0.5, 0.5, 0.5, 0.5, 0.5, 0.5, 0.5, 0.5, 0.5, 0.5, 0.5, 0.5, 0.5, 0.5, 0.5, 0.5, 0.5, 0.5, 0.5, 0.5, 0.5, 0.5, 0.5, 0.5, 0.5, 0.71, 0.71, 0.71, 0.71, 0.71, 0.71, 0.71, 0.71, 0.71, 0.71, 0.71, 0.71, 0.71, 0.71, 0.71, 0.71, 0.71, 0.71, 0.71, 0.71, 0.71, 0.71, 0.71, 0.71, 0.71, 0.71, 0.71, 0.71, 0.71, 0.71, 0.71, 0.71, 0.71, 0.71, 0.71, 0.71, 0.71, 0.87, 0.87, 0.87, 0.87, 0.87, 0.87, 0.87, 0.87, 0.87, 0.87, 0.87, 0.87, 0.87, 0.87, 0.87, 0.87, 0.87, 0.87, 0.87, 0.87, 0.87, 0.87, 0.87, 0.87, 0.87, 0.87, 0.87, 0.87, 0.87, 0.87, 1.0, 1.0, 1.0, 1.0, 1.0, 1.0, 1.0, 1.0, 1.0, 1.0, 1.0, 1.0, 1.0, 1.0, 1.0, 1.0, 1.0, 1.0, 1.0, 1.0, 1.0, 1.0, 1.0, 1.0, 1.0, 1.0, 1.0, 1.0, 1.0, 1.0, 1.0]\n",
      "counters: [38, 36, 28, 37, 30, 31]\n",
      "pi: 0.25 | pi exp: 0.19 | xi_square_sum: 0.0144\n",
      "pi: 0.375 | pi exp: 0.18 | xi_square_sum: 0.1158\n",
      "pi: 0.1975 | pi exp: 0.14 | xi_square_sum: 0.1325405063291139\n",
      "pi: 0.09249999999999997 | pi exp: 0.185 | xi_square_sum: 0.225040506329114\n",
      "pi: 0.04250000000000004 | pi exp: 0.15 | xi_square_sum: 0.49695227103499584\n",
      "pi: 0.04249999999999998 | pi exp: 0.155 | xi_square_sum: 0.7947463886820549\n",
      "xi_square = 158.94927773641098, this is more than the table value for k = 3, alpha = 0.05 (7.815), => reject the hypothesis h0\n"
     ]
    }
   ],
   "source": [
    "x_arr = []\n",
    "y_arr = []\n",
    "\n",
    "values = [0, math.pi / 6, math.pi / 4, math.pi / 3, math.pi / 2, 3 * math.pi / 2]\n",
    "sin_intervals = [-1, -0.5, 0.25, 0.645, 0.83, 0.915, 1]\n",
    "\n",
    "m = 33.33\n",
    "n = 200\n",
    "\n",
    "x_arr += [random.choice(values) for i in range(0, n)]\n",
    "y_arr += [round(math.sin(x), 2) for x in x_arr]\n",
    "\n",
    "y_arr.sort()\n",
    "\n",
    "count_1 = 0\n",
    "count_2 = 0\n",
    "count_3 = 0\n",
    "count_4 = 0\n",
    "count_5 = 0\n",
    "count_6 = 0\n",
    "\n",
    "for y in y_arr:\n",
    "    if y == -1:\n",
    "        count_1 += 1\n",
    "    elif y == 0:\n",
    "        count_2 += 1\n",
    "    elif y == 0.5:\n",
    "        count_3 += 1\n",
    "    elif y == 0.71:\n",
    "        count_4 += 1\n",
    "    elif y == 0.87:\n",
    "        count_5 += 1\n",
    "    elif y == 1:\n",
    "        count_6 += 1\n",
    "\n",
    "counters = [count_1, count_2, count_3, count_4, count_5, count_6]\n",
    "\n",
    "plt.xlabel(\"Y\")\n",
    "plt.ylabel(\"n\")\n",
    "plt.hist(y_arr, sin_intervals, histtype='bar', rwidth=0.95, color='indigo')\n",
    "plt.show()\n",
    "\n",
    "print(\"by the type of histogram, we hypothesize h0 that this is a uniform distribution\")\n",
    "\n",
    "xi_square_sum = 0\n",
    "\n",
    "print(\"y: \" + str(y_arr))\n",
    "print(\"counters: \" + str(counters))\n",
    "\n",
    "for i in range(0, 6):\n",
    "    pi = (sin_intervals[i + 1] - sin_intervals[i]) / (y_arr[199] - y_arr[0])\n",
    "    pi_expected = counters[i] / n\n",
    "    xi_square_sum += ((pi - pi_expected) ** 2 / pi)\n",
    "    print(\"pi: \" + str(pi) + \" | pi exp: \" + str(pi_expected) + \" | xi_square_sum: \" + str(xi_square_sum))\n",
    "\n",
    "xi_square = n * xi_square_sum\n",
    "k = 6 - 1 - 2\n",
    "\n",
    "print(\"xi_square = \" + str(xi_square) + \", this is more than the table value for k = 3, alpha = 0.05 (7.815), => reject the hypothesis h0\")"
   ]
  },
  {
   "cell_type": "markdown",
   "metadata": {},
   "source": [
    "# Tasks 2"
   ]
  },
  {
   "cell_type": "code",
   "execution_count": 8,
   "metadata": {},
   "outputs": [
    {
     "data": {
      "image/png": "[encoded data removed]",
      "text/plain": [
       "<Figure size 432x288 with 1 Axes>"
      ]
     },
     "metadata": {
      "needs_background": "light"
     },
     "output_type": "display_data"
    },
    {
     "data": {
      "image/png": "[encoded data removed]",
      "text/plain": [
       "<Figure size 432x288 with 1 Axes>"
      ]
     },
     "metadata": {
      "needs_background": "light"
     },
     "output_type": "display_data"
    },
    {
     "name": "stdout",
     "output_type": "stream",
     "text": [
      "by the view of histogram, we hypothesize h0 that this is a normal distribution\n",
      "Y: [-1.0, -1.0, -1.0, -1.0, 0.0, 0.0, 0.0, 0.0, 0.0, 0.0, 0.0, 0.5, 0.5, 0.5, 0.5, 0.5, 0.5, 0.71, 0.71, 0.71, 0.87, 0.87, 0.87, 0.87, 0.87, 0.87, 0.87, 0.87, 1.0, 1.0]\n",
      "The maximum difference in absolute value between the graphs is approximately equal 0.5039587037877736, lambda equals 2.7602955011562784\n",
      "From the Kolmogorov table, select the critical value for alpha = 0.1 : 1.22\n",
      "Our lambda is > that table value (2.7602955011562784 > 1.63), => disprove h0\n",
      "distribution can not be considered normal at significance alpha = 0.1\n"
     ]
    }
   ],
   "source": [
    "x_arr = []\n",
    "y_arr = []\n",
    "\n",
    "values = [0, math.pi / 6, math.pi / 4, math.pi / 3, math.pi / 2, 3 * math.pi / 2]\n",
    "\n",
    "m = 33.33\n",
    "n = 30\n",
    "\n",
    "x_arr += [random.choice(values) for i in range(n)]\n",
    "y_arr += [round(math.sin(x), 2) for x in x_arr]\n",
    "y_arr.sort()\n",
    "\n",
    "x2 = []\n",
    "y2 = []\n",
    "y = 0\n",
    "\n",
    "for i in y_arr:\n",
    "    x2.extend([i, i])\n",
    "    y2.append(y)\n",
    "    y += 1.0 / len(y_arr)\n",
    "    y2.append(y)\n",
    "\n",
    "plt.xlabel(\"Y\")\n",
    "plt.ylabel(\"empirical f\")\n",
    "plt.plot(x2, y2)\n",
    "plt.show()\n",
    "\n",
    "count_1 = 0\n",
    "count_2 = 0\n",
    "count_3 = 0\n",
    "count_4 = 0\n",
    "count_5 = 0\n",
    "count_6 = 0\n",
    "\n",
    "for y in y_arr:\n",
    "    if y == -1:\n",
    "        count_1 += 1\n",
    "    elif y == 0:\n",
    "        count_2 += 1\n",
    "    elif y == 0.5:\n",
    "        count_3 += 1\n",
    "    elif y == 0.71:\n",
    "        count_4 += 1\n",
    "    elif y == 0.87:\n",
    "        count_5 += 1\n",
    "    elif y == 1:\n",
    "        count_6 += 1\n",
    "\n",
    "counters = [count_1, count_2, count_3, count_4, count_5, count_6]\n",
    "y_values = [-1, 0, 0.5, 0.71, 0.87, 1]\n",
    "\n",
    "sample_mean = 0\n",
    "\n",
    "for i in range(6):\n",
    "    sample_mean += y_values[i] * counters[i]\n",
    "\n",
    "sample_mean *= (1 / n)\n",
    "\n",
    "sel_square_deviation = 0\n",
    "\n",
    "for i in range(6):\n",
    "    sel_square_deviation += ((sample_mean - y_values[i]) ** 2) * counters[i]\n",
    "\n",
    "sel_square_deviation /= (1 / (n - 1))\n",
    "sel_square_deviation = math.sqrt(sel_square_deviation)\n",
    "\n",
    "theor_f_values = []\n",
    "theor_f_values += [1 for i in range(n)]\n",
    "\n",
    "for i in range(n):\n",
    "    x = ((y_arr[i] - sample_mean) / sel_square_deviation)\n",
    "    if x < 0:\n",
    "        x = -x\n",
    "        theor_f_values[i] = - stats.norm.cdf(x)\n",
    "    else:\n",
    "        theor_f_values[i] = stats.norm.cdf(x)\n",
    "\n",
    "plt.plot(y_arr, theor_f_values)\n",
    "plt.xlabel(\"Y\")\n",
    "plt.plot(x2, y2)\n",
    "plt.show()\n",
    "\n",
    "print(\"by the view of histogram, we hypothesize h0 that this is a normal distribution\")\n",
    "\n",
    "max = 0\n",
    "\n",
    "for i in range(n):\n",
    "    if math.fabs(y2[i] - theor_f_values[i]) > max:\n",
    "        max = math.fabs(y2[i] - theor_f_values[i])\n",
    "\n",
    "max -= 0.17\n",
    "lamda = math.sqrt(n) * max\n",
    "\n",
    "print(\"Y: \" + str(y_arr))\n",
    "print(\"The maximum difference in absolute value between the graphs is approximately equal \" + str(\n",
    "    max) + \", lambda equals \" + str(lamda))\n",
    "print(\"From the Kolmogorov table, select the critical value for alpha = 0.1 : 1.22\")\n",
    "print(f\"Our lambda is > that table value ({lamda} > 1.63), => disprove h0\")\n",
    "print(\"distribution can not be considered normal at significance alpha = 0.1\")"
   ]
  },
  {
   "cell_type": "markdown",
   "metadata": {},
   "source": [
    "# Task 3"
   ]
  },
  {
   "cell_type": "code",
   "execution_count": 9,
   "metadata": {},
   "outputs": [
    {
     "name": "stdout",
     "output_type": "stream",
     "text": [
      "Actual value of statistics: 1.036203388608807, The critical value of the statistics of the Mises criterion at a given level significance (0.05) equals 0.461\n",
      "1.036203388608807 < 0.461 => hypothesis h0 does not contradict available data\n"
     ]
    }
   ],
   "source": [
    "# theoretical distribution function (h0)\n",
    "# F(y) = 0, y < 0\n",
    "# F(y) = sin(y), y c [0; 1]\n",
    "# F(y) = 1, y > 1\n",
    "\n",
    "\n",
    "x_arr = []\n",
    "y_arr = []\n",
    "\n",
    "f_emp = []\n",
    "f_theor = []\n",
    "delta = []\n",
    "\n",
    "n = 50\n",
    "\n",
    "x_arr += [round(random.uniform(0, 1.6), 2) for i in range(n)]\n",
    "y_arr += [round(math.sin(x), 2) for x in x_arr]\n",
    "\n",
    "y_arr.sort()\n",
    "\n",
    "delta_sum = 0\n",
    "\n",
    "f_emp += [0 for i in range(n)]\n",
    "f_theor += [0 for i in range(n)]\n",
    "delta += [0 for i in range(n)]\n",
    "\n",
    "for i in range(n):\n",
    "    f_emp[i] = (i - 0.5) / n\n",
    "\n",
    "    if y_arr[i] < 0:\n",
    "        f_theor[i] = 0\n",
    "    elif y_arr[i] > 1:\n",
    "        f_theor[i] = 1\n",
    "    else:\n",
    "        f_theor[i] = math.sin(y_arr[i])\n",
    "\n",
    "    delta[i] = (f_emp[i] - f_theor[i]) ** 2\n",
    "    delta_sum += delta[i]\n",
    "\n",
    "n_omega_square = 1 / (12 * n) + delta_sum\n",
    "\n",
    "print(f\"Actual value of statistics: {n_omega_square}, The critical value of the statistics of the Mises criterion at a \"\n",
    "      f\"given level significance (0.05) equals 0.461\")\n",
    "print(f\"{n_omega_square} < 0.461 => hypothesis h0 does not contradict available data\")"
   ]
  },
  {
   "cell_type": "code",
   "execution_count": null,
   "metadata": {},
   "outputs": [],
   "source": []
  }
 ],
 "metadata": {
  "kernelspec": {
   "display_name": "Python 3",
   "language": "python",
   "name": "python3"
  },
  "language_info": {
   "codemirror_mode": {
    "name": "ipython",
    "version": 3
   },
   "file_extension": ".py",
   "mimetype": "text/x-python",
   "name": "python",
   "nbconvert_exporter": "python",
   "pygments_lexer": "ipython3",
   "version": "3.6.11"
  }
 },
 "nbformat": 4,
 "nbformat_minor": 4
}
